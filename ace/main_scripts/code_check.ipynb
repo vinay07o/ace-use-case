{
 "cells": [
  {
   "cell_type": "code",
   "execution_count": 3,
   "metadata": {},
   "outputs": [],
   "source": [
    "from ace.utils import prep_general_material_data, read_file"
   ]
  },
  {
   "cell_type": "code",
   "execution_count": 2,
   "metadata": {},
   "outputs": [],
   "source": [
    "df = read_file(\"../data/system_1/PRE_MARA.csv\", \"CSV\", {\"header\": \"true\"})"
   ]
  },
  {
   "cell_type": "code",
   "execution_count": 5,
   "metadata": {},
   "outputs": [],
   "source": [
    "# Pyspark libraries\n",
    "import pyspark.sql.functions as F\n",
    "import pyspark.sql.types as T\n",
    "from pyspark.sql import DataFrame\n",
    "\n",
    "from ace.utils import enforce_schema, read_file\n",
    "from ace.schemas import MARA_SCHEMA\n",
    "\n",
    "\n",
    "def prep_general_material_data(\n",
    "    df: DataFrame,\n",
    "    col_mara_global_material_number:str,\n",
    "    check_old_material_number_is_valid: bool = True,\n",
    "    check_material_is_not_deleted: bool = True,\n",
    "):\n",
    "    \"\"\"\n",
    "    Filters materials based on validity of the old material number (BISMT) and deletion flag (LVORM)\n",
    "    and renames the global material number column and selects required columns.\n",
    "\n",
    "    Parameters:\n",
    "    -----------\n",
    "    df : DataFrame\n",
    "        Input PySpark DataFrame containing material data.\n",
    "    col_mara_global_material_number : str\n",
    "        Column name for the global material number for the system.\n",
    "    check_old_material_number_is_valid : bool, optional (default=True)\n",
    "        If True, filters out rows where the old material number is invalid.\n",
    "        Valid old material numbers are not in [\"ARCHIVE\", \"DUPLICATE\", \"RENUMBERED\"] or null.\n",
    "    check_material_is_not_deleted : bool, optional (default=True)\n",
    "        If True, excludes rows where the deletion flag is not null or not empty.\n",
    "    rename_global_material_number : str, optional (default=None)\n",
    "        If specified, renames the global material number column to this consistent name.\n",
    "\n",
    "    Returns:\n",
    "    --------\n",
    "    DataFrame\n",
    "        A PySpark DataFrame after applying the filters and renaming.\n",
    "    \"\"\"\n",
    "    # Apply old material number validity filter\n",
    "    if check_old_material_number_is_valid:\n",
    "        df = df.filter(\n",
    "            (F.col(\"BISMT\").isNull()) | (~F.col(\"BISMT\").isin(\"ARCHIVE\", \"DUPLICATE\", \"RENUMBERED\"))\n",
    "        )\n",
    "\n",
    "    # Apply material not deleted filter\n",
    "    if check_material_is_not_deleted:\n",
    "        df = df.filter(\n",
    "            (F.col(\"LVORM\").isNull()) | (F.col(\"LVORM\") == \"\")\n",
    "        )\n",
    "\n",
    "    # Rename global material number column\n",
    "    df = df.withColumnRenamed(col_mara_global_material_number, \"global_material_number\")\n",
    "\n",
    "\n",
    "    return enforce_schema(df, MARA_SCHEMA)"
   ]
  },
  {
   "cell_type": "code",
   "execution_count": 7,
   "metadata": {},
   "outputs": [
    {
     "name": "stdout",
     "output_type": "stream",
     "text": [
      "+----------------------------------------------------------------+----------------------------------------------------------------+----------------------------------------------------------------+----------------------------------------------------------------+\n",
      "|MANDT                                                           |MATNR                                                           |MEINS                                                           |global_material_number                                          |\n",
      "+----------------------------------------------------------------+----------------------------------------------------------------+----------------------------------------------------------------+----------------------------------------------------------------+\n",
      "|ad57366865126e55649ecb23ae1d48887544976efea46a48eb5d85a6eeb4d306|73247d2a426212859ed5573281c4fb0f1ac040983509226591035355f4d0fa68|72dfcfb0c470ac255cde83fb8fe38de8a128188e03ea5ba5b2a93adbea1062fa|73247d2a426212859ed5573281c4fb0f1ac040983509226591035355f4d0fa68|\n",
      "|ad57366865126e55649ecb23ae1d48887544976efea46a48eb5d85a6eeb4d306|590c5df14b93564b3822eeb4d5b6468ea992f92499c1692edcfcdf555a78e39f|88ed32099fc71a59d6849a77735f947e17ebdd813cefc4742682dcadbeecf920|590c5df14b93564b3822eeb4d5b6468ea992f92499c1692edcfcdf555a78e39f|\n",
      "|ad57366865126e55649ecb23ae1d48887544976efea46a48eb5d85a6eeb4d306|85b82c1df153d3366f650faf1974dd83092a5ff9259814f1480f2096ff82469e|fb2a4edd17f56dd07d1c9aef6b98e9094c35846f260bdc765c87bd6f2e8a7921|85b82c1df153d3366f650faf1974dd83092a5ff9259814f1480f2096ff82469e|\n",
      "|ad57366865126e55649ecb23ae1d48887544976efea46a48eb5d85a6eeb4d306|c2bb3b34c7d0fafdfe81229c0834926066486aff6ffdc72ba7ffa8a2610096fb|fb2a4edd17f56dd07d1c9aef6b98e9094c35846f260bdc765c87bd6f2e8a7921|c2bb3b34c7d0fafdfe81229c0834926066486aff6ffdc72ba7ffa8a2610096fb|\n",
      "|ad57366865126e55649ecb23ae1d48887544976efea46a48eb5d85a6eeb4d306|c216f4a709b45177d40da3228690f31f68a0e62fe3d0bc4ab6f82977f54ae13d|fb2a4edd17f56dd07d1c9aef6b98e9094c35846f260bdc765c87bd6f2e8a7921|c216f4a709b45177d40da3228690f31f68a0e62fe3d0bc4ab6f82977f54ae13d|\n",
      "+----------------------------------------------------------------+----------------------------------------------------------------+----------------------------------------------------------------+----------------------------------------------------------------+\n",
      "\n"
     ]
    }
   ],
   "source": [
    "prep_general_material_data(df, \"ZZMDGM\").show(truncate=False)"
   ]
  },
  {
   "cell_type": "code",
   "execution_count": 8,
   "metadata": {},
   "outputs": [],
   "source": [
    "import os"
   ]
  },
  {
   "cell_type": "code",
   "execution_count": 4,
   "metadata": {},
   "outputs": [
    {
     "name": "stdout",
     "output_type": "stream",
     "text": [
      "PRE_AFKO\n",
      "Data loaded into variable: PRE_AFKO\n",
      "PRE_AFPO\n",
      "Data loaded into variable: PRE_AFPO\n",
      "PRE_AUFK\n",
      "Data loaded into variable: PRE_AUFK\n",
      "PRE_MARA\n",
      "Data loaded into variable: PRE_MARA\n",
      "PRE_MARC\n",
      "Data loaded into variable: PRE_MARC\n",
      "PRE_MBEW\n",
      "Data loaded into variable: PRE_MBEW\n",
      "PRE_T001\n",
      "Data loaded into variable: PRE_T001\n",
      "PRE_T001K\n",
      "Data loaded into variable: PRE_T001K\n",
      "PRE_T001W\n",
      "Data loaded into variable: PRE_T001W\n"
     ]
    }
   ],
   "source": [
    "for file_name in os.listdir(\"../data/system_1/\"):\n",
    "    file_path = os.path.join(\"../data/system_1/\", file_name)\n",
    "\n",
    "    # Check if it is a file (not a subfolder)\n",
    "    if os.path.isfile(file_path):\n",
    "        # Extract the file name without extension\n",
    "        base_name = os.path.splitext(file_name)[0]\n",
    "        print(base_name)\n",
    "\n",
    "        # Read the file based on its extension and create DataFrame\n",
    "        if file_name.endswith('.csv'):\n",
    "            df = read_file(file_path, \"csv\", {\"header\": \"true\", \"inferSchema\": \"true\"})\n",
    "\n",
    "        # Dynamically assign the DataFrame to a variable with the same name as the file (without extension)\n",
    "        globals()[base_name] = df\n",
    "        print(f\"Data loaded into variable: {base_name}\")"
   ]
  },
  {
   "cell_type": "code",
   "execution_count": 7,
   "metadata": {},
   "outputs": [
    {
     "data": {
      "text/plain": [
       "DataFrame[LTRMI: timestamp]"
      ]
     },
     "execution_count": 7,
     "metadata": {},
     "output_type": "execute_result"
    }
   ],
   "source": [
    "PRE_AFPO.select(\"LTRMI\")"
   ]
  },
  {
   "cell_type": "code",
   "execution_count": 16,
   "metadata": {},
   "outputs": [],
   "source": [
    "from ace.utils import enforce_schema"
   ]
  },
  {
   "cell_type": "code",
   "execution_count": 2,
   "metadata": {},
   "outputs": [],
   "source": [
    "import os"
   ]
  },
  {
   "cell_type": "code",
   "execution_count": 11,
   "metadata": {},
   "outputs": [
    {
     "name": "stdout",
     "output_type": "stream",
     "text": [
      "+-------------------+\n",
      "|              LTRMI|\n",
      "+-------------------+\n",
      "|2013-10-29 00:00:00|\n",
      "|2016-04-24 00:00:00|\n",
      "|2016-01-26 00:00:00|\n",
      "|2013-09-19 00:00:00|\n",
      "|2012-05-12 00:00:00|\n",
      "|2016-03-12 00:00:00|\n",
      "|2017-03-22 00:00:00|\n",
      "|2013-06-21 00:00:00|\n",
      "|2015-01-20 00:00:00|\n",
      "|2018-04-19 00:00:00|\n",
      "|2018-10-29 00:00:00|\n",
      "|2016-07-29 00:00:00|\n",
      "|2013-12-28 00:00:00|\n",
      "|2018-09-30 00:00:00|\n",
      "|2018-08-13 00:00:00|\n",
      "|2016-07-17 00:00:00|\n",
      "|2013-12-28 00:00:00|\n",
      "|2017-11-24 00:00:00|\n",
      "|2017-02-02 00:00:00|\n",
      "|2017-04-23 00:00:00|\n",
      "+-------------------+\n",
      "only showing top 20 rows\n",
      "\n"
     ]
    }
   ],
   "source": [
    "PRE_AFPO.select(\"LTRMI\").show()"
   ]
  },
  {
   "cell_type": "code",
   "execution_count": 13,
   "metadata": {},
   "outputs": [
    {
     "ename": "AnalysisException",
     "evalue": "Column 'LTRMI' does not exist. Did you mean one of the following? [FORMT, LVORM, NORMT, ATTYP, BFLME, BISMT, BREIT, BSTME, CMREL, ERGEI, ETIAG, ETIAR, ETIFO, FERTH, GEWEI, IHIVI, INHME, IPRKZ, KZREV, KZUMW, LABOR, LAEDA, LAENG, LIQDT, MATFI, MBRSH, MFRNR, MFRPN, MPROF, MTART, NTGEW, RBNRM, SERLV, SPROF, STFAK, STOFF, TEMPB, TRAGR, VABME, VPREH, ZZREL, AEKLK, AENAM, AESZN, BBTYP, BEGRU, BEHVO, BLANZ, BLATT, BMATN, BRGEW, BWSCL, BWVOR, CADKZ, CMETH, COMPL, CUOBF, DATAB, DISST, EAN11, EANNR, EKWSL, ENTAR, ERGEW, ERNAM, ERSDA, ERVOE, ERVOL, EXTWG, FUELG, GENNR, GEWTO, GROES, HOEHE, ILOOS, INHAL, INHBR, KOSCH, KUNNR, KZEFF, KZGVH, KZKFG, KZKUP, KZNFM, KZWSM, MAGRV, MANDT, MATKL, MATNR, MEABM, MEINS, MHDHB, MHDLP, MHDRZ, MLGUT, MSTAE, MSTAV, MSTDE, MSTDV, NRFHG, NUMTP, PLGTP, PMATA, PRDHA, PROFL, PRZUS, PSTAT, QMPUR, RAUBE, RDMHD, RMATP, SAISJ, SAISO, SAITY, SATNR, SPART, TAKLV, VHART, VOLEH, VOLTO, VOLUM, VPSTA, WESCH, WRKST, XCHPF, XGCHP, ZEIAR, ZEIFO, ZEINR, ZEIVR, ZZMDL, ZZNPH, ZZMDGM, BRAND_ID, SLED_BBD, ZZPRODMAN, MTPOS_MARA, ZZLAUNCHD, ZZMAT_GPH, ZZMAT_SBU, ZZMAT_SEG, ZZOLDPRODH, ZZORIGSRC, ZZRELCODE, ZZREVCATE, ZZTAXGROUP, sur_pkey, MATNR_CLEAN, ZZBRAND_PF, ZZBUSNSEG, ZZICM_COGS, ZZMGPH_PL, ZZMSBU_PL, ZZPRODSTEW, GTIN_VARIANT, ZZMATTAXCLASS, SOURCE_SYSTEM_ERP];\n'Project ['LTRMI]\n+- Relation [MANDT#798,MATNR#799,ERSDA#800,ERNAM#801,LAEDA#802,AENAM#803,VPSTA#804,PSTAT#805,LVORM#806,MTART#807,MBRSH#808,MATKL#809,BISMT#810,MEINS#811,BSTME#812,ZEINR#813,ZEIAR#814,ZEIVR#815,ZEIFO#816,AESZN#817,BLATT#818,BLANZ#819,FERTH#820,FORMT#821,... 133 more fields] csv\n",
     "output_type": "error",
     "traceback": [
      "\u001b[1;31m---------------------------------------------------------------------------\u001b[0m",
      "\u001b[1;31mAnalysisException\u001b[0m                         Traceback (most recent call last)",
      "Cell \u001b[1;32mIn[13], line 1\u001b[0m\n\u001b[1;32m----> 1\u001b[0m \u001b[43mPRE_MARA\u001b[49m\u001b[38;5;241;43m.\u001b[39;49m\u001b[43mselect\u001b[49m\u001b[43m(\u001b[49m\u001b[38;5;124;43m\"\u001b[39;49m\u001b[38;5;124;43mLTRMI\u001b[39;49m\u001b[38;5;124;43m\"\u001b[39;49m\u001b[43m)\u001b[49m\u001b[38;5;241m.\u001b[39mshow()\n",
      "File \u001b[1;32mc:\\Users\\M334161\\Documents\\SDE-Interview\\project-git-2\\ace-use-case\\venv\\Lib\\site-packages\\pyspark\\sql\\dataframe.py:3229\u001b[0m, in \u001b[0;36mDataFrame.select\u001b[1;34m(self, *cols)\u001b[0m\n\u001b[0;32m   3184\u001b[0m \u001b[38;5;28;01mdef\u001b[39;00m \u001b[38;5;21mselect\u001b[39m(\u001b[38;5;28mself\u001b[39m, \u001b[38;5;241m*\u001b[39mcols: \u001b[38;5;124m\"\u001b[39m\u001b[38;5;124mColumnOrName\u001b[39m\u001b[38;5;124m\"\u001b[39m) \u001b[38;5;241m-\u001b[39m\u001b[38;5;241m>\u001b[39m \u001b[38;5;124m\"\u001b[39m\u001b[38;5;124mDataFrame\u001b[39m\u001b[38;5;124m\"\u001b[39m:  \u001b[38;5;66;03m# type: ignore[misc]\u001b[39;00m\n\u001b[0;32m   3185\u001b[0m \u001b[38;5;250m    \u001b[39m\u001b[38;5;124;03m\"\"\"Projects a set of expressions and returns a new :class:`DataFrame`.\u001b[39;00m\n\u001b[0;32m   3186\u001b[0m \n\u001b[0;32m   3187\u001b[0m \u001b[38;5;124;03m    .. versionadded:: 1.3.0\u001b[39;00m\n\u001b[1;32m   (...)\u001b[0m\n\u001b[0;32m   3227\u001b[0m \u001b[38;5;124;03m    +-----+---+\u001b[39;00m\n\u001b[0;32m   3228\u001b[0m \u001b[38;5;124;03m    \"\"\"\u001b[39;00m\n\u001b[1;32m-> 3229\u001b[0m     jdf \u001b[38;5;241m=\u001b[39m \u001b[38;5;28;43mself\u001b[39;49m\u001b[38;5;241;43m.\u001b[39;49m\u001b[43m_jdf\u001b[49m\u001b[38;5;241;43m.\u001b[39;49m\u001b[43mselect\u001b[49m\u001b[43m(\u001b[49m\u001b[38;5;28;43mself\u001b[39;49m\u001b[38;5;241;43m.\u001b[39;49m\u001b[43m_jcols\u001b[49m\u001b[43m(\u001b[49m\u001b[38;5;241;43m*\u001b[39;49m\u001b[43mcols\u001b[49m\u001b[43m)\u001b[49m\u001b[43m)\u001b[49m\n\u001b[0;32m   3230\u001b[0m     \u001b[38;5;28;01mreturn\u001b[39;00m DataFrame(jdf, \u001b[38;5;28mself\u001b[39m\u001b[38;5;241m.\u001b[39msparkSession)\n",
      "File \u001b[1;32mc:\\Users\\M334161\\Documents\\SDE-Interview\\project-git-2\\ace-use-case\\venv\\Lib\\site-packages\\py4j\\java_gateway.py:1322\u001b[0m, in \u001b[0;36mJavaMember.__call__\u001b[1;34m(self, *args)\u001b[0m\n\u001b[0;32m   1316\u001b[0m command \u001b[38;5;241m=\u001b[39m proto\u001b[38;5;241m.\u001b[39mCALL_COMMAND_NAME \u001b[38;5;241m+\u001b[39m\\\n\u001b[0;32m   1317\u001b[0m     \u001b[38;5;28mself\u001b[39m\u001b[38;5;241m.\u001b[39mcommand_header \u001b[38;5;241m+\u001b[39m\\\n\u001b[0;32m   1318\u001b[0m     args_command \u001b[38;5;241m+\u001b[39m\\\n\u001b[0;32m   1319\u001b[0m     proto\u001b[38;5;241m.\u001b[39mEND_COMMAND_PART\n\u001b[0;32m   1321\u001b[0m answer \u001b[38;5;241m=\u001b[39m \u001b[38;5;28mself\u001b[39m\u001b[38;5;241m.\u001b[39mgateway_client\u001b[38;5;241m.\u001b[39msend_command(command)\n\u001b[1;32m-> 1322\u001b[0m return_value \u001b[38;5;241m=\u001b[39m \u001b[43mget_return_value\u001b[49m\u001b[43m(\u001b[49m\n\u001b[0;32m   1323\u001b[0m \u001b[43m    \u001b[49m\u001b[43manswer\u001b[49m\u001b[43m,\u001b[49m\u001b[43m \u001b[49m\u001b[38;5;28;43mself\u001b[39;49m\u001b[38;5;241;43m.\u001b[39;49m\u001b[43mgateway_client\u001b[49m\u001b[43m,\u001b[49m\u001b[43m \u001b[49m\u001b[38;5;28;43mself\u001b[39;49m\u001b[38;5;241;43m.\u001b[39;49m\u001b[43mtarget_id\u001b[49m\u001b[43m,\u001b[49m\u001b[43m \u001b[49m\u001b[38;5;28;43mself\u001b[39;49m\u001b[38;5;241;43m.\u001b[39;49m\u001b[43mname\u001b[49m\u001b[43m)\u001b[49m\n\u001b[0;32m   1325\u001b[0m \u001b[38;5;28;01mfor\u001b[39;00m temp_arg \u001b[38;5;129;01min\u001b[39;00m temp_args:\n\u001b[0;32m   1326\u001b[0m     \u001b[38;5;28;01mif\u001b[39;00m \u001b[38;5;28mhasattr\u001b[39m(temp_arg, \u001b[38;5;124m\"\u001b[39m\u001b[38;5;124m_detach\u001b[39m\u001b[38;5;124m\"\u001b[39m):\n",
      "File \u001b[1;32mc:\\Users\\M334161\\Documents\\SDE-Interview\\project-git-2\\ace-use-case\\venv\\Lib\\site-packages\\pyspark\\errors\\exceptions\\captured.py:185\u001b[0m, in \u001b[0;36mcapture_sql_exception.<locals>.deco\u001b[1;34m(*a, **kw)\u001b[0m\n\u001b[0;32m    181\u001b[0m converted \u001b[38;5;241m=\u001b[39m convert_exception(e\u001b[38;5;241m.\u001b[39mjava_exception)\n\u001b[0;32m    182\u001b[0m \u001b[38;5;28;01mif\u001b[39;00m \u001b[38;5;129;01mnot\u001b[39;00m \u001b[38;5;28misinstance\u001b[39m(converted, UnknownException):\n\u001b[0;32m    183\u001b[0m     \u001b[38;5;66;03m# Hide where the exception came from that shows a non-Pythonic\u001b[39;00m\n\u001b[0;32m    184\u001b[0m     \u001b[38;5;66;03m# JVM exception message.\u001b[39;00m\n\u001b[1;32m--> 185\u001b[0m     \u001b[38;5;28;01mraise\u001b[39;00m converted \u001b[38;5;28;01mfrom\u001b[39;00m \u001b[38;5;28;01mNone\u001b[39;00m\n\u001b[0;32m    186\u001b[0m \u001b[38;5;28;01melse\u001b[39;00m:\n\u001b[0;32m    187\u001b[0m     \u001b[38;5;28;01mraise\u001b[39;00m\n",
      "\u001b[1;31mAnalysisException\u001b[0m: Column 'LTRMI' does not exist. Did you mean one of the following? [FORMT, LVORM, NORMT, ATTYP, BFLME, BISMT, BREIT, BSTME, CMREL, ERGEI, ETIAG, ETIAR, ETIFO, FERTH, GEWEI, IHIVI, INHME, IPRKZ, KZREV, KZUMW, LABOR, LAEDA, LAENG, LIQDT, MATFI, MBRSH, MFRNR, MFRPN, MPROF, MTART, NTGEW, RBNRM, SERLV, SPROF, STFAK, STOFF, TEMPB, TRAGR, VABME, VPREH, ZZREL, AEKLK, AENAM, AESZN, BBTYP, BEGRU, BEHVO, BLANZ, BLATT, BMATN, BRGEW, BWSCL, BWVOR, CADKZ, CMETH, COMPL, CUOBF, DATAB, DISST, EAN11, EANNR, EKWSL, ENTAR, ERGEW, ERNAM, ERSDA, ERVOE, ERVOL, EXTWG, FUELG, GENNR, GEWTO, GROES, HOEHE, ILOOS, INHAL, INHBR, KOSCH, KUNNR, KZEFF, KZGVH, KZKFG, KZKUP, KZNFM, KZWSM, MAGRV, MANDT, MATKL, MATNR, MEABM, MEINS, MHDHB, MHDLP, MHDRZ, MLGUT, MSTAE, MSTAV, MSTDE, MSTDV, NRFHG, NUMTP, PLGTP, PMATA, PRDHA, PROFL, PRZUS, PSTAT, QMPUR, RAUBE, RDMHD, RMATP, SAISJ, SAISO, SAITY, SATNR, SPART, TAKLV, VHART, VOLEH, VOLTO, VOLUM, VPSTA, WESCH, WRKST, XCHPF, XGCHP, ZEIAR, ZEIFO, ZEINR, ZEIVR, ZZMDL, ZZNPH, ZZMDGM, BRAND_ID, SLED_BBD, ZZPRODMAN, MTPOS_MARA, ZZLAUNCHD, ZZMAT_GPH, ZZMAT_SBU, ZZMAT_SEG, ZZOLDPRODH, ZZORIGSRC, ZZRELCODE, ZZREVCATE, ZZTAXGROUP, sur_pkey, MATNR_CLEAN, ZZBRAND_PF, ZZBUSNSEG, ZZICM_COGS, ZZMGPH_PL, ZZMSBU_PL, ZZPRODSTEW, GTIN_VARIANT, ZZMATTAXCLASS, SOURCE_SYSTEM_ERP];\n'Project ['LTRMI]\n+- Relation [MANDT#798,MATNR#799,ERSDA#800,ERNAM#801,LAEDA#802,AENAM#803,VPSTA#804,PSTAT#805,LVORM#806,MTART#807,MBRSH#808,MATKL#809,BISMT#810,MEINS#811,BSTME#812,ZEINR#813,ZEIAR#814,ZEIVR#815,ZEIFO#816,AESZN#817,BLATT#818,BLANZ#819,FERTH#820,FORMT#821,... 133 more fields] csv\n"
     ]
    }
   ],
   "source": [
    "PRE_MARA.select(\"LTRMI\").show()"
   ]
  },
  {
   "cell_type": "code",
   "execution_count": null,
   "metadata": {},
   "outputs": [],
   "source": []
  },
  {
   "cell_type": "code",
   "execution_count": null,
   "metadata": {},
   "outputs": [],
   "source": []
  }
 ],
 "metadata": {
  "kernelspec": {
   "display_name": "venv",
   "language": "python",
   "name": "python3"
  },
  "language_info": {
   "codemirror_mode": {
    "name": "ipython",
    "version": 3
   },
   "file_extension": ".py",
   "mimetype": "text/x-python",
   "name": "python",
   "nbconvert_exporter": "python",
   "pygments_lexer": "ipython3",
   "version": "3.12.3"
  }
 },
 "nbformat": 4,
 "nbformat_minor": 2
}
