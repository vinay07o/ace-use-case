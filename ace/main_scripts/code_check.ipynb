{
 "cells": [
  {
   "cell_type": "code",
   "execution_count": 3,
   "metadata": {},
   "outputs": [],
   "source": [
    "from ace.utils import prep_general_material_data, read_file"
   ]
  },
  {
   "cell_type": "code",
   "execution_count": 2,
   "metadata": {},
   "outputs": [],
   "source": [
    "df = read_file(\"../data/system_1/PRE_MARA.csv\", \"CSV\", {\"header\": \"true\"})"
   ]
  },
  {
   "cell_type": "code",
   "execution_count": 5,
   "metadata": {},
   "outputs": [],
   "source": [
    "# Pyspark libraries\n",
    "import pyspark.sql.functions as F\n",
    "import pyspark.sql.types as T\n",
    "from pyspark.sql import DataFrame\n",
    "\n",
    "from ace.utils import enforce_schema, read_file\n",
    "from ace.schemas import MARA_SCHEMA\n",
    "\n",
    "\n",
    "def prep_general_material_data(\n",
    "    df: DataFrame,\n",
    "    col_mara_global_material_number:str,\n",
    "    check_old_material_number_is_valid: bool = True,\n",
    "    check_material_is_not_deleted: bool = True,\n",
    "):\n",
    "    \"\"\"\n",
    "    Filters materials based on validity of the old material number (BISMT) and deletion flag (LVORM)\n",
    "    and renames the global material number column and selects required columns.\n",
    "\n",
    "    Parameters:\n",
    "    -----------\n",
    "    df : DataFrame\n",
    "        Input PySpark DataFrame containing material data.\n",
    "    col_mara_global_material_number : str\n",
    "        Column name for the global material number for the system.\n",
    "    check_old_material_number_is_valid : bool, optional (default=True)\n",
    "        If True, filters out rows where the old material number is invalid.\n",
    "        Valid old material numbers are not in [\"ARCHIVE\", \"DUPLICATE\", \"RENUMBERED\"] or null.\n",
    "    check_material_is_not_deleted : bool, optional (default=True)\n",
    "        If True, excludes rows where the deletion flag is not null or not empty.\n",
    "    rename_global_material_number : str, optional (default=None)\n",
    "        If specified, renames the global material number column to this consistent name.\n",
    "\n",
    "    Returns:\n",
    "    --------\n",
    "    DataFrame\n",
    "        A PySpark DataFrame after applying the filters and renaming.\n",
    "    \"\"\"\n",
    "    # Apply old material number validity filter\n",
    "    if check_old_material_number_is_valid:\n",
    "        df = df.filter(\n",
    "            (F.col(\"BISMT\").isNull()) | (~F.col(\"BISMT\").isin(\"ARCHIVE\", \"DUPLICATE\", \"RENUMBERED\"))\n",
    "        )\n",
    "\n",
    "    # Apply material not deleted filter\n",
    "    if check_material_is_not_deleted:\n",
    "        df = df.filter(\n",
    "            (F.col(\"LVORM\").isNull()) | (F.col(\"LVORM\") == \"\")\n",
    "        )\n",
    "\n",
    "    # Rename global material number column\n",
    "    df = df.withColumnRenamed(col_mara_global_material_number, \"global_material_number\")\n",
    "\n",
    "\n",
    "    return enforce_schema(df, MARA_SCHEMA)"
   ]
  },
  {
   "cell_type": "code",
   "execution_count": 7,
   "metadata": {},
   "outputs": [
    {
     "name": "stdout",
     "output_type": "stream",
     "text": [
      "+----------------------------------------------------------------+----------------------------------------------------------------+----------------------------------------------------------------+----------------------------------------------------------------+\n",
      "|MANDT                                                           |MATNR                                                           |MEINS                                                           |global_material_number                                          |\n",
      "+----------------------------------------------------------------+----------------------------------------------------------------+----------------------------------------------------------------+----------------------------------------------------------------+\n",
      "|ad57366865126e55649ecb23ae1d48887544976efea46a48eb5d85a6eeb4d306|73247d2a426212859ed5573281c4fb0f1ac040983509226591035355f4d0fa68|72dfcfb0c470ac255cde83fb8fe38de8a128188e03ea5ba5b2a93adbea1062fa|73247d2a426212859ed5573281c4fb0f1ac040983509226591035355f4d0fa68|\n",
      "|ad57366865126e55649ecb23ae1d48887544976efea46a48eb5d85a6eeb4d306|590c5df14b93564b3822eeb4d5b6468ea992f92499c1692edcfcdf555a78e39f|88ed32099fc71a59d6849a77735f947e17ebdd813cefc4742682dcadbeecf920|590c5df14b93564b3822eeb4d5b6468ea992f92499c1692edcfcdf555a78e39f|\n",
      "|ad57366865126e55649ecb23ae1d48887544976efea46a48eb5d85a6eeb4d306|85b82c1df153d3366f650faf1974dd83092a5ff9259814f1480f2096ff82469e|fb2a4edd17f56dd07d1c9aef6b98e9094c35846f260bdc765c87bd6f2e8a7921|85b82c1df153d3366f650faf1974dd83092a5ff9259814f1480f2096ff82469e|\n",
      "|ad57366865126e55649ecb23ae1d48887544976efea46a48eb5d85a6eeb4d306|c2bb3b34c7d0fafdfe81229c0834926066486aff6ffdc72ba7ffa8a2610096fb|fb2a4edd17f56dd07d1c9aef6b98e9094c35846f260bdc765c87bd6f2e8a7921|c2bb3b34c7d0fafdfe81229c0834926066486aff6ffdc72ba7ffa8a2610096fb|\n",
      "|ad57366865126e55649ecb23ae1d48887544976efea46a48eb5d85a6eeb4d306|c216f4a709b45177d40da3228690f31f68a0e62fe3d0bc4ab6f82977f54ae13d|fb2a4edd17f56dd07d1c9aef6b98e9094c35846f260bdc765c87bd6f2e8a7921|c216f4a709b45177d40da3228690f31f68a0e62fe3d0bc4ab6f82977f54ae13d|\n",
      "+----------------------------------------------------------------+----------------------------------------------------------------+----------------------------------------------------------------+----------------------------------------------------------------+\n",
      "\n"
     ]
    }
   ],
   "source": [
    "prep_general_material_data(df, \"ZZMDGM\").show(truncate=False)"
   ]
  },
  {
   "cell_type": "code",
   "execution_count": 8,
   "metadata": {},
   "outputs": [],
   "source": [
    "import os"
   ]
  },
  {
   "cell_type": "code",
   "execution_count": 4,
   "metadata": {},
   "outputs": [
    {
     "name": "stdout",
     "output_type": "stream",
     "text": [
      "PRE_AFKO\n",
      "Data loaded into variable: PRE_AFKO\n",
      "PRE_AFPO\n",
      "Data loaded into variable: PRE_AFPO\n",
      "PRE_AUFK\n",
      "Data loaded into variable: PRE_AUFK\n",
      "PRE_MARA\n",
      "Data loaded into variable: PRE_MARA\n",
      "PRE_MARC\n",
      "Data loaded into variable: PRE_MARC\n",
      "PRE_MBEW\n",
      "Data loaded into variable: PRE_MBEW\n",
      "PRE_T001\n",
      "Data loaded into variable: PRE_T001\n",
      "PRE_T001K\n",
      "Data loaded into variable: PRE_T001K\n",
      "PRE_T001W\n",
      "Data loaded into variable: PRE_T001W\n"
     ]
    }
   ],
   "source": [
    "for file_name in os.listdir(\"../data/system_1/\"):\n",
    "    file_path = os.path.join(\"../data/system_1/\", file_name)\n",
    "\n",
    "    # Check if it is a file (not a subfolder)\n",
    "    if os.path.isfile(file_path):\n",
    "        # Extract the file name without extension\n",
    "        base_name = os.path.splitext(file_name)[0]\n",
    "        print(base_name)\n",
    "\n",
    "        # Read the file based on its extension and create DataFrame\n",
    "        if file_name.endswith('.csv'):\n",
    "            df = read_file(file_path, \"csv\", {\"header\": \"true\", \"inferSchema\": \"true\"})\n",
    "\n",
    "        # Dynamically assign the DataFrame to a variable with the same name as the file (without extension)\n",
    "        globals()[base_name] = df\n",
    "        print(f\"Data loaded into variable: {base_name}\")"
   ]
  },
  {
   "cell_type": "code",
   "execution_count": 7,
   "metadata": {},
   "outputs": [
    {
     "data": {
      "text/plain": [
       "DataFrame[LTRMI: timestamp]"
      ]
     },
     "execution_count": 7,
     "metadata": {},
     "output_type": "execute_result"
    }
   ],
   "source": [
    "PRE_AFPO.select(\"LTRMI\")"
   ]
  },
  {
   "cell_type": "code",
   "execution_count": 16,
   "metadata": {},
   "outputs": [],
   "source": [
    "from ace.utils import enforce_schema"
   ]
  },
  {
   "cell_type": "code",
   "execution_count": 2,
   "metadata": {},
   "outputs": [],
   "source": [
    "import os"
   ]
  },
  {
   "cell_type": "code",
   "execution_count": 14,
   "metadata": {},
   "outputs": [
    {
     "name": "stdout",
     "output_type": "stream",
     "text": [
      "+--------------------+\n",
      "|               KDAUF|\n",
      "+--------------------+\n",
      "|                null|\n",
      "|146dc792be66dba12...|\n",
      "|                null|\n",
      "|3bc2e0055747de78b...|\n",
      "|                null|\n",
      "|ed13758110de363aa...|\n",
      "|                null|\n",
      "|                null|\n",
      "|8557a40f9fbe2c90f...|\n",
      "|f0f0cf3f9b941b8cb...|\n",
      "|f0f0cf3f9b941b8cb...|\n",
      "|                null|\n",
      "|                null|\n",
      "|af850ba2ecb3ea24e...|\n",
      "|79fa43ff27a96d27b...|\n",
      "|                null|\n",
      "|                null|\n",
      "|                null|\n",
      "|                null|\n",
      "|                null|\n",
      "+--------------------+\n",
      "only showing top 20 rows\n",
      "\n"
     ]
    }
   ],
   "source": [
    "PRE_AFPO.select(\"KDAUF\").show()"
   ]
  },
  {
   "cell_type": "code",
   "execution_count": 17,
   "metadata": {},
   "outputs": [
    {
     "name": "stdout",
     "output_type": "stream",
     "text": [
      "+--------------------+\n",
      "|               KDAUF|\n",
      "+--------------------+\n",
      "|                null|\n",
      "|7884871dce402f358...|\n",
      "|                null|\n",
      "|                null|\n",
      "|                null|\n",
      "|                null|\n",
      "|cd14e89eccc6b123f...|\n",
      "|                null|\n",
      "|                null|\n",
      "|                null|\n",
      "|146dc792be66dba12...|\n",
      "|bc719afaabc72d67c...|\n",
      "|e7fc5abf8bd4ad253...|\n",
      "|d67dddd89a02148df...|\n",
      "|b53841a0fa8769d2f...|\n",
      "|                null|\n",
      "|                null|\n",
      "|                null|\n",
      "|                null|\n",
      "|2b375afa928b8e4fb...|\n",
      "+--------------------+\n",
      "only showing top 20 rows\n",
      "\n"
     ]
    }
   ],
   "source": [
    "PRE_AUFK.select(\"KDAUF\").show()"
   ]
  },
  {
   "cell_type": "code",
   "execution_count": 18,
   "metadata": {},
   "outputs": [
    {
     "data": {
      "text/plain": [
       "['MATNR',\n",
       " 'AUFNR',\n",
       " 'SOURCE_SYSTEM_ERP',\n",
       " 'MANDT',\n",
       " 'start_date',\n",
       " 'GLTRP',\n",
       " 'GSTRI',\n",
       " 'POSNR',\n",
       " 'DWERK',\n",
       " 'KDAUF',\n",
       " 'LTRMI',\n",
       " 'OBJNR',\n",
       " 'ERDAT',\n",
       " 'ERNAM',\n",
       " 'AUART',\n",
       " 'ZZGLTRP_ORIG',\n",
       " 'ZZPRO_TEXT',\n",
       " 'MANDT',\n",
       " 'MEINS',\n",
       " 'global_material_number',\n",
       " 'primary_key_intra',\n",
       " 'primary_key_inter',\n",
       " 'on_time_flag',\n",
       " 'actual_on_time_deviation',\n",
       " 'late_delivery_bucket',\n",
       " 'mto_vs_mts_flag',\n",
       " 'order_finish_timestamp',\n",
       " 'order_start_timestamp']"
      ]
     },
     "execution_count": 18,
     "metadata": {},
     "output_type": "execute_result"
    }
   ],
   "source": [
    "['MATNR', 'AUFNR', 'SOURCE_SYSTEM_ERP', 'MANDT', 'start_date', 'GLTRP', 'GSTRI', 'POSNR', 'DWERK', 'KDAUF', 'LTRMI', 'OBJNR', 'ERDAT', 'ERNAM', 'AUART', 'ZZGLTRP_ORIG', 'ZZPRO_TEXT', 'MANDT', 'MEINS', 'global_material_number', 'primary_key_intra', 'primary_key_inter', 'on_time_flag', 'actual_on_time_deviation', 'late_delivery_bucket', 'mto_vs_mts_flag', 'order_finish_timestamp', 'order_start_timestamp']"
   ]
  },
  {
   "cell_type": "code",
   "execution_count": 19,
   "metadata": {},
   "outputs": [],
   "source": [
    "process_order_schema = ['MATNR', 'AUFNR', 'SOURCE_SYSTEM_ERP', 'MANDT', 'start_date', 'GLTRP', 'GSTRI', 'POSNR', 'DWERK', 'KDAUF', 'LTRMI', 'OBJNR', 'ERDAT', 'ERNAM', 'AUART', 'ZZGLTRP_ORIG', 'ZZPRO_TEXT', 'MTART', 'NTGEW', 'global_material_number', 'primary_key_intra', 'primary_key_inter', 'on_time_flag', 'actual_on_time_deviation', 'late_delivery_bucket', 'mto_vs_mts_flag', 'order_finish_timestamp', 'order_start_timestamp']"
   ]
  },
  {
   "cell_type": "code",
   "execution_count": 20,
   "metadata": {},
   "outputs": [
    {
     "data": {
      "text/plain": [
       "['MATNR',\n",
       " 'AUFNR',\n",
       " 'SOURCE_SYSTEM_ERP',\n",
       " 'MANDT',\n",
       " 'start_date',\n",
       " 'GLTRP',\n",
       " 'GSTRI',\n",
       " 'POSNR',\n",
       " 'DWERK',\n",
       " 'KDAUF',\n",
       " 'LTRMI',\n",
       " 'OBJNR',\n",
       " 'ERDAT',\n",
       " 'ERNAM',\n",
       " 'AUART',\n",
       " 'ZZGLTRP_ORIG',\n",
       " 'ZZPRO_TEXT',\n",
       " 'MTART',\n",
       " 'NTGEW',\n",
       " 'global_material_number',\n",
       " 'primary_key_intra',\n",
       " 'primary_key_inter',\n",
       " 'on_time_flag',\n",
       " 'actual_on_time_deviation',\n",
       " 'late_delivery_bucket',\n",
       " 'mto_vs_mts_flag',\n",
       " 'order_finish_timestamp',\n",
       " 'order_start_timestamp']"
      ]
     },
     "execution_count": 20,
     "metadata": {},
     "output_type": "execute_result"
    }
   ],
   "source": [
    "process_order_schema"
   ]
  },
  {
   "cell_type": "code",
   "execution_count": 21,
   "metadata": {},
   "outputs": [],
   "source": [
    "local_meterial_schema = ['MANDT', 'BUKRS', 'BWKEY', 'MATNR', 'WERKS', 'SOURCE_SYSTEM_ERP', 'PLIFZ', 'DZEIT', 'DISLS', 'MEINS', 'global_material_number', 'NAME1', 'VPRSV', 'VERPR', 'STPRS', 'PEINH', 'BKLAS', 'WAERS', 'mtl_plant_emd', 'global_mtl_id', 'primary_key_intra', 'primary_key_inter', 'no_of_duplicates']"
   ]
  },
  {
   "cell_type": "code",
   "execution_count": 22,
   "metadata": {},
   "outputs": [
    {
     "data": {
      "text/plain": [
       "['MANDT',\n",
       " 'BUKRS',\n",
       " 'BWKEY',\n",
       " 'MATNR',\n",
       " 'WERKS',\n",
       " 'SOURCE_SYSTEM_ERP',\n",
       " 'PLIFZ',\n",
       " 'DZEIT',\n",
       " 'DISLS',\n",
       " 'MEINS',\n",
       " 'global_material_number',\n",
       " 'NAME1',\n",
       " 'VPRSV',\n",
       " 'VERPR',\n",
       " 'STPRS',\n",
       " 'PEINH',\n",
       " 'BKLAS',\n",
       " 'WAERS',\n",
       " 'mtl_plant_emd',\n",
       " 'global_mtl_id',\n",
       " 'primary_key_intra',\n",
       " 'primary_key_inter',\n",
       " 'no_of_duplicates']"
      ]
     },
     "execution_count": 22,
     "metadata": {},
     "output_type": "execute_result"
    }
   ],
   "source": [
    "local_meterial_schema"
   ]
  },
  {
   "cell_type": "code",
   "execution_count": 24,
   "metadata": {},
   "outputs": [],
   "source": [
    "import pandas as pd"
   ]
  },
  {
   "cell_type": "code",
   "execution_count": 26,
   "metadata": {},
   "outputs": [
    {
     "data": {
      "text/html": [
       "<div>\n",
       "<style scoped>\n",
       "    .dataframe tbody tr th:only-of-type {\n",
       "        vertical-align: middle;\n",
       "    }\n",
       "\n",
       "    .dataframe tbody tr th {\n",
       "        vertical-align: top;\n",
       "    }\n",
       "\n",
       "    .dataframe thead th {\n",
       "        text-align: right;\n",
       "    }\n",
       "</style>\n",
       "<table border=\"1\" class=\"dataframe\">\n",
       "  <thead>\n",
       "    <tr style=\"text-align: right;\">\n",
       "      <th></th>\n",
       "      <th>process_order</th>\n",
       "    </tr>\n",
       "  </thead>\n",
       "  <tbody>\n",
       "    <tr>\n",
       "      <th>0</th>\n",
       "      <td>MATNR</td>\n",
       "    </tr>\n",
       "    <tr>\n",
       "      <th>1</th>\n",
       "      <td>AUFNR</td>\n",
       "    </tr>\n",
       "    <tr>\n",
       "      <th>2</th>\n",
       "      <td>SOURCE_SYSTEM_ERP</td>\n",
       "    </tr>\n",
       "    <tr>\n",
       "      <th>3</th>\n",
       "      <td>MANDT</td>\n",
       "    </tr>\n",
       "    <tr>\n",
       "      <th>4</th>\n",
       "      <td>start_date</td>\n",
       "    </tr>\n",
       "    <tr>\n",
       "      <th>5</th>\n",
       "      <td>GLTRP</td>\n",
       "    </tr>\n",
       "    <tr>\n",
       "      <th>6</th>\n",
       "      <td>GSTRI</td>\n",
       "    </tr>\n",
       "    <tr>\n",
       "      <th>7</th>\n",
       "      <td>POSNR</td>\n",
       "    </tr>\n",
       "    <tr>\n",
       "      <th>8</th>\n",
       "      <td>DWERK</td>\n",
       "    </tr>\n",
       "    <tr>\n",
       "      <th>9</th>\n",
       "      <td>KDAUF</td>\n",
       "    </tr>\n",
       "    <tr>\n",
       "      <th>10</th>\n",
       "      <td>LTRMI</td>\n",
       "    </tr>\n",
       "    <tr>\n",
       "      <th>11</th>\n",
       "      <td>OBJNR</td>\n",
       "    </tr>\n",
       "    <tr>\n",
       "      <th>12</th>\n",
       "      <td>ERDAT</td>\n",
       "    </tr>\n",
       "    <tr>\n",
       "      <th>13</th>\n",
       "      <td>ERNAM</td>\n",
       "    </tr>\n",
       "    <tr>\n",
       "      <th>14</th>\n",
       "      <td>AUART</td>\n",
       "    </tr>\n",
       "    <tr>\n",
       "      <th>15</th>\n",
       "      <td>ZZGLTRP_ORIG</td>\n",
       "    </tr>\n",
       "    <tr>\n",
       "      <th>16</th>\n",
       "      <td>ZZPRO_TEXT</td>\n",
       "    </tr>\n",
       "    <tr>\n",
       "      <th>17</th>\n",
       "      <td>MTART</td>\n",
       "    </tr>\n",
       "    <tr>\n",
       "      <th>18</th>\n",
       "      <td>NTGEW</td>\n",
       "    </tr>\n",
       "    <tr>\n",
       "      <th>19</th>\n",
       "      <td>global_material_number</td>\n",
       "    </tr>\n",
       "    <tr>\n",
       "      <th>20</th>\n",
       "      <td>primary_key_intra</td>\n",
       "    </tr>\n",
       "    <tr>\n",
       "      <th>21</th>\n",
       "      <td>primary_key_inter</td>\n",
       "    </tr>\n",
       "    <tr>\n",
       "      <th>22</th>\n",
       "      <td>on_time_flag</td>\n",
       "    </tr>\n",
       "    <tr>\n",
       "      <th>23</th>\n",
       "      <td>actual_on_time_deviation</td>\n",
       "    </tr>\n",
       "    <tr>\n",
       "      <th>24</th>\n",
       "      <td>late_delivery_bucket</td>\n",
       "    </tr>\n",
       "    <tr>\n",
       "      <th>25</th>\n",
       "      <td>mto_vs_mts_flag</td>\n",
       "    </tr>\n",
       "    <tr>\n",
       "      <th>26</th>\n",
       "      <td>order_finish_timestamp</td>\n",
       "    </tr>\n",
       "    <tr>\n",
       "      <th>27</th>\n",
       "      <td>order_start_timestamp</td>\n",
       "    </tr>\n",
       "  </tbody>\n",
       "</table>\n",
       "</div>"
      ],
      "text/plain": [
       "               process_order\n",
       "0                      MATNR\n",
       "1                      AUFNR\n",
       "2          SOURCE_SYSTEM_ERP\n",
       "3                      MANDT\n",
       "4                 start_date\n",
       "5                      GLTRP\n",
       "6                      GSTRI\n",
       "7                      POSNR\n",
       "8                      DWERK\n",
       "9                      KDAUF\n",
       "10                     LTRMI\n",
       "11                     OBJNR\n",
       "12                     ERDAT\n",
       "13                     ERNAM\n",
       "14                     AUART\n",
       "15              ZZGLTRP_ORIG\n",
       "16                ZZPRO_TEXT\n",
       "17                     MTART\n",
       "18                     NTGEW\n",
       "19    global_material_number\n",
       "20         primary_key_intra\n",
       "21         primary_key_inter\n",
       "22              on_time_flag\n",
       "23  actual_on_time_deviation\n",
       "24      late_delivery_bucket\n",
       "25           mto_vs_mts_flag\n",
       "26    order_finish_timestamp\n",
       "27     order_start_timestamp"
      ]
     },
     "execution_count": 26,
     "metadata": {},
     "output_type": "execute_result"
    }
   ],
   "source": [
    "pd.DataFrame({\"process_order\" : process_order_schema})"
   ]
  },
  {
   "cell_type": "code",
   "execution_count": 27,
   "metadata": {},
   "outputs": [
    {
     "data": {
      "text/html": [
       "<div>\n",
       "<style scoped>\n",
       "    .dataframe tbody tr th:only-of-type {\n",
       "        vertical-align: middle;\n",
       "    }\n",
       "\n",
       "    .dataframe tbody tr th {\n",
       "        vertical-align: top;\n",
       "    }\n",
       "\n",
       "    .dataframe thead th {\n",
       "        text-align: right;\n",
       "    }\n",
       "</style>\n",
       "<table border=\"1\" class=\"dataframe\">\n",
       "  <thead>\n",
       "    <tr style=\"text-align: right;\">\n",
       "      <th></th>\n",
       "      <th>local_material</th>\n",
       "    </tr>\n",
       "  </thead>\n",
       "  <tbody>\n",
       "    <tr>\n",
       "      <th>0</th>\n",
       "      <td>MANDT</td>\n",
       "    </tr>\n",
       "    <tr>\n",
       "      <th>1</th>\n",
       "      <td>BUKRS</td>\n",
       "    </tr>\n",
       "    <tr>\n",
       "      <th>2</th>\n",
       "      <td>BWKEY</td>\n",
       "    </tr>\n",
       "    <tr>\n",
       "      <th>3</th>\n",
       "      <td>MATNR</td>\n",
       "    </tr>\n",
       "    <tr>\n",
       "      <th>4</th>\n",
       "      <td>WERKS</td>\n",
       "    </tr>\n",
       "    <tr>\n",
       "      <th>5</th>\n",
       "      <td>SOURCE_SYSTEM_ERP</td>\n",
       "    </tr>\n",
       "    <tr>\n",
       "      <th>6</th>\n",
       "      <td>PLIFZ</td>\n",
       "    </tr>\n",
       "    <tr>\n",
       "      <th>7</th>\n",
       "      <td>DZEIT</td>\n",
       "    </tr>\n",
       "    <tr>\n",
       "      <th>8</th>\n",
       "      <td>DISLS</td>\n",
       "    </tr>\n",
       "    <tr>\n",
       "      <th>9</th>\n",
       "      <td>MEINS</td>\n",
       "    </tr>\n",
       "    <tr>\n",
       "      <th>10</th>\n",
       "      <td>global_material_number</td>\n",
       "    </tr>\n",
       "    <tr>\n",
       "      <th>11</th>\n",
       "      <td>NAME1</td>\n",
       "    </tr>\n",
       "    <tr>\n",
       "      <th>12</th>\n",
       "      <td>VPRSV</td>\n",
       "    </tr>\n",
       "    <tr>\n",
       "      <th>13</th>\n",
       "      <td>VERPR</td>\n",
       "    </tr>\n",
       "    <tr>\n",
       "      <th>14</th>\n",
       "      <td>STPRS</td>\n",
       "    </tr>\n",
       "    <tr>\n",
       "      <th>15</th>\n",
       "      <td>PEINH</td>\n",
       "    </tr>\n",
       "    <tr>\n",
       "      <th>16</th>\n",
       "      <td>BKLAS</td>\n",
       "    </tr>\n",
       "    <tr>\n",
       "      <th>17</th>\n",
       "      <td>WAERS</td>\n",
       "    </tr>\n",
       "    <tr>\n",
       "      <th>18</th>\n",
       "      <td>mtl_plant_emd</td>\n",
       "    </tr>\n",
       "    <tr>\n",
       "      <th>19</th>\n",
       "      <td>global_mtl_id</td>\n",
       "    </tr>\n",
       "    <tr>\n",
       "      <th>20</th>\n",
       "      <td>primary_key_intra</td>\n",
       "    </tr>\n",
       "    <tr>\n",
       "      <th>21</th>\n",
       "      <td>primary_key_inter</td>\n",
       "    </tr>\n",
       "    <tr>\n",
       "      <th>22</th>\n",
       "      <td>no_of_duplicates</td>\n",
       "    </tr>\n",
       "  </tbody>\n",
       "</table>\n",
       "</div>"
      ],
      "text/plain": [
       "            local_material\n",
       "0                    MANDT\n",
       "1                    BUKRS\n",
       "2                    BWKEY\n",
       "3                    MATNR\n",
       "4                    WERKS\n",
       "5        SOURCE_SYSTEM_ERP\n",
       "6                    PLIFZ\n",
       "7                    DZEIT\n",
       "8                    DISLS\n",
       "9                    MEINS\n",
       "10  global_material_number\n",
       "11                   NAME1\n",
       "12                   VPRSV\n",
       "13                   VERPR\n",
       "14                   STPRS\n",
       "15                   PEINH\n",
       "16                   BKLAS\n",
       "17                   WAERS\n",
       "18           mtl_plant_emd\n",
       "19           global_mtl_id\n",
       "20       primary_key_intra\n",
       "21       primary_key_inter\n",
       "22        no_of_duplicates"
      ]
     },
     "execution_count": 27,
     "metadata": {},
     "output_type": "execute_result"
    }
   ],
   "source": [
    "pd.DataFrame({\"local_material\": local_meterial_schema})"
   ]
  },
  {
   "cell_type": "code",
   "execution_count": 28,
   "metadata": {},
   "outputs": [
    {
     "data": {
      "text/plain": [
       "['global_material_number',\n",
       " 'primary_key_intra',\n",
       " 'primary_key_inter',\n",
       " 'mtl_plant_emd',\n",
       " 'global_mtl_id',\n",
       " 'no_of_duplicates',\n",
       " 'global_material_number',\n",
       " 'primary_key_intra',\n",
       " 'primary_key_inter',\n",
       " 'material_number',\n",
       " 'source_system_erp',\n",
       " 'client',\n",
       " 'company_code',\n",
       " 'valuation_area',\n",
       " 'planned_delivery_time',\n",
       " 'decoupling_time',\n",
       " 'discontinuation_indicator',\n",
       " 'unit_of_measure',\n",
       " 'name_of_plant',\n",
       " 'price_control_indicator',\n",
       " 'moving_average_price',\n",
       " 'standard_price',\n",
       " 'unit_price',\n",
       " 'valuation_class',\n",
       " 'currency_key',\n",
       " 'order_number',\n",
       " 'start_date_source',\n",
       " 'start_date',\n",
       " 'order_start_timestamp_source',\n",
       " 'order_item_number',\n",
       " 'plant',\n",
       " 'sales_order_number',\n",
       " 'order_finish_timestamp_source',\n",
       " 'object_number',\n",
       " 'creation_date',\n",
       " 'created_by',\n",
       " 'order_type',\n",
       " 'original_basic_finish_date',\n",
       " 'project_text',\n",
       " 'material_type',\n",
       " 'net_weight',\n",
       " 'on_time_flag',\n",
       " 'actual_on_time_deviation',\n",
       " 'late_delivery_bucket',\n",
       " 'mto_vs_mts_flag',\n",
       " 'order_finish_timestamp',\n",
       " 'order_start_timestamp']"
      ]
     },
     "execution_count": 28,
     "metadata": {},
     "output_type": "execute_result"
    }
   ],
   "source": [
    "['global_material_number', 'primary_key_intra', 'primary_key_inter', 'mtl_plant_emd', 'global_mtl_id', 'no_of_duplicates', 'global_material_number', 'primary_key_intra', 'primary_key_inter', 'material_number', 'source_system_erp', 'client', 'company_code', 'valuation_area', 'planned_delivery_time', 'decoupling_time', 'discontinuation_indicator', 'unit_of_measure', 'name_of_plant', 'price_control_indicator', 'moving_average_price', 'standard_price', 'unit_price', 'valuation_class', 'currency_key', 'order_number', 'start_date_source', 'start_date', 'order_start_timestamp_source', 'order_item_number', 'plant', 'sales_order_number', 'order_finish_timestamp_source', 'object_number', 'creation_date', 'created_by', 'order_type', 'original_basic_finish_date', 'project_text', 'material_type', 'net_weight', 'on_time_flag', 'actual_on_time_deviation', 'late_delivery_bucket', 'mto_vs_mts_flag', 'order_finish_timestamp', 'order_start_timestamp']"
   ]
  },
  {
   "cell_type": "code",
   "execution_count": 1,
   "metadata": {},
   "outputs": [],
   "source": [
    "import os"
   ]
  },
  {
   "cell_type": "code",
   "execution_count": 2,
   "metadata": {},
   "outputs": [],
   "source": [
    "from pyspark.sql import SparkSession"
   ]
  },
  {
   "cell_type": "code",
   "execution_count": 5,
   "metadata": {},
   "outputs": [],
   "source": [
    "ss = SparkSession.builder.appName(\"test\").getOrCreate()"
   ]
  },
  {
   "cell_type": "code",
   "execution_count": 6,
   "metadata": {},
   "outputs": [
    {
     "data": {
      "text/html": [
       "\n",
       "            <div>\n",
       "                <p><b>SparkSession - in-memory</b></p>\n",
       "                \n",
       "        <div>\n",
       "            <p><b>SparkContext</b></p>\n",
       "\n",
       "            <p><a href=\"http://LTIN1183040.one.merckgroup.com:4040\">Spark UI</a></p>\n",
       "\n",
       "            <dl>\n",
       "              <dt>Version</dt>\n",
       "                <dd><code>v3.5.3</code></dd>\n",
       "              <dt>Master</dt>\n",
       "                <dd><code>local[*]</code></dd>\n",
       "              <dt>AppName</dt>\n",
       "                <dd><code>test</code></dd>\n",
       "            </dl>\n",
       "        </div>\n",
       "        \n",
       "            </div>\n",
       "        "
      ],
      "text/plain": [
       "<pyspark.sql.session.SparkSession at 0x23befe4b350>"
      ]
     },
     "execution_count": 6,
     "metadata": {},
     "output_type": "execute_result"
    }
   ],
   "source": [
    "ss"
   ]
  },
  {
   "cell_type": "code",
   "execution_count": 8,
   "metadata": {},
   "outputs": [],
   "source": [
    "import pyspark.sql.types as T"
   ]
  },
  {
   "cell_type": "code",
   "execution_count": 9,
   "metadata": {},
   "outputs": [],
   "source": [
    "df = ss.createDataFrame(\n",
    "        data=[\n",
    "            (\"pk_val_1\", \"a\", 1, \"A\", 10, \"aa\", 100),\n",
    "            (\"pk_val_2\", \"b\", 2, \"B\", 20, \"bb\", 200),\n",
    "        ],\n",
    "        schema=T.StructType(\n",
    "            [\n",
    "                T.StructField(\"pk_col\", T.StringType()),\n",
    "                T.StructField(\"col_to_keep_1\", T.StringType()),\n",
    "                T.StructField(\"col_to_keep_2\", T.IntegerType()),\n",
    "                T.StructField(\"col_to_rename_1_old_name\", T.StringType()),\n",
    "                T.StructField(\"col_to_rename_2_old_name\", T.IntegerType()),\n",
    "                T.StructField(\"col_to_delete_1\", T.StringType()),\n",
    "                T.StructField(\"col_to_delete_2\", T.IntegerType()),\n",
    "            ]\n",
    "        ),\n",
    "    )"
   ]
  },
  {
   "cell_type": "code",
   "execution_count": 13,
   "metadata": {},
   "outputs": [
    {
     "ename": "ModuleNotFoundError",
     "evalue": "No module named 'distutils'",
     "output_type": "error",
     "traceback": [
      "\u001b[1;31m---------------------------------------------------------------------------\u001b[0m",
      "\u001b[1;31mModuleNotFoundError\u001b[0m                       Traceback (most recent call last)",
      "Cell \u001b[1;32mIn[13], line 1\u001b[0m\n\u001b[1;32m----> 1\u001b[0m \u001b[43mdf\u001b[49m\u001b[38;5;241;43m.\u001b[39;49m\u001b[43mtoPandas\u001b[49m\u001b[43m(\u001b[49m\u001b[43m)\u001b[49m\u001b[38;5;241m.\u001b[39mhead()\n",
      "File \u001b[1;32mc:\\Users\\M334161\\Documents\\SDE-Interview\\project-git-2\\ace-use-case\\venv\\Lib\\site-packages\\pyspark\\sql\\pandas\\conversion.py:86\u001b[0m, in \u001b[0;36mPandasConversionMixin.toPandas\u001b[1;34m(self)\u001b[0m\n\u001b[0;32m     83\u001b[0m \u001b[38;5;28;01mfrom\u001b[39;00m \u001b[38;5;21;01mpyspark\u001b[39;00m\u001b[38;5;21;01m.\u001b[39;00m\u001b[38;5;21;01msql\u001b[39;00m\u001b[38;5;21;01m.\u001b[39;00m\u001b[38;5;21;01mpandas\u001b[39;00m\u001b[38;5;21;01m.\u001b[39;00m\u001b[38;5;21;01mtypes\u001b[39;00m \u001b[38;5;28;01mimport\u001b[39;00m _create_converter_to_pandas\n\u001b[0;32m     84\u001b[0m \u001b[38;5;28;01mfrom\u001b[39;00m \u001b[38;5;21;01mpyspark\u001b[39;00m\u001b[38;5;21;01m.\u001b[39;00m\u001b[38;5;21;01msql\u001b[39;00m\u001b[38;5;21;01m.\u001b[39;00m\u001b[38;5;21;01mpandas\u001b[39;00m\u001b[38;5;21;01m.\u001b[39;00m\u001b[38;5;21;01mutils\u001b[39;00m \u001b[38;5;28;01mimport\u001b[39;00m require_minimum_pandas_version\n\u001b[1;32m---> 86\u001b[0m \u001b[43mrequire_minimum_pandas_version\u001b[49m\u001b[43m(\u001b[49m\u001b[43m)\u001b[49m\n\u001b[0;32m     88\u001b[0m \u001b[38;5;28;01mimport\u001b[39;00m \u001b[38;5;21;01mpandas\u001b[39;00m \u001b[38;5;28;01mas\u001b[39;00m \u001b[38;5;21;01mpd\u001b[39;00m\n\u001b[0;32m     90\u001b[0m jconf \u001b[38;5;241m=\u001b[39m \u001b[38;5;28mself\u001b[39m\u001b[38;5;241m.\u001b[39msparkSession\u001b[38;5;241m.\u001b[39m_jconf\n",
      "File \u001b[1;32mc:\\Users\\M334161\\Documents\\SDE-Interview\\project-git-2\\ace-use-case\\venv\\Lib\\site-packages\\pyspark\\sql\\pandas\\utils.py:24\u001b[0m, in \u001b[0;36mrequire_minimum_pandas_version\u001b[1;34m()\u001b[0m\n\u001b[0;32m     21\u001b[0m \u001b[38;5;66;03m# TODO(HyukjinKwon): Relocate and deduplicate the version specification.\u001b[39;00m\n\u001b[0;32m     22\u001b[0m minimum_pandas_version \u001b[38;5;241m=\u001b[39m \u001b[38;5;124m\"\u001b[39m\u001b[38;5;124m1.0.5\u001b[39m\u001b[38;5;124m\"\u001b[39m\n\u001b[1;32m---> 24\u001b[0m \u001b[38;5;28;01mfrom\u001b[39;00m \u001b[38;5;21;01mdistutils\u001b[39;00m\u001b[38;5;21;01m.\u001b[39;00m\u001b[38;5;21;01mversion\u001b[39;00m \u001b[38;5;28;01mimport\u001b[39;00m LooseVersion\n\u001b[0;32m     26\u001b[0m \u001b[38;5;28;01mtry\u001b[39;00m:\n\u001b[0;32m     27\u001b[0m     \u001b[38;5;28;01mimport\u001b[39;00m \u001b[38;5;21;01mpandas\u001b[39;00m\n",
      "\u001b[1;31mModuleNotFoundError\u001b[0m: No module named 'distutils'"
     ]
    }
   ],
   "source": [
    "df.toPandas().head()"
   ]
  },
  {
   "cell_type": "code",
   "execution_count": null,
   "metadata": {},
   "outputs": [],
   "source": []
  }
 ],
 "metadata": {
  "kernelspec": {
   "display_name": "venv",
   "language": "python",
   "name": "python3"
  },
  "language_info": {
   "codemirror_mode": {
    "name": "ipython",
    "version": 3
   },
   "file_extension": ".py",
   "mimetype": "text/x-python",
   "name": "python",
   "nbconvert_exporter": "python",
   "pygments_lexer": "ipython3",
   "version": "3.12.3"
  }
 },
 "nbformat": 4,
 "nbformat_minor": 2
}
