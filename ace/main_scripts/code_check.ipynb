{
 "cells": [
  {
   "cell_type": "code",
   "execution_count": 1,
   "metadata": {},
   "outputs": [],
   "source": [
    "from ace.utils import prep_general_material_data, read_file"
   ]
  },
  {
   "cell_type": "code",
   "execution_count": 2,
   "metadata": {},
   "outputs": [],
   "source": [
    "df = read_file(\"../data/system_1/PRE_MARA.csv\", \"CSV\", {\"header\": \"true\"})"
   ]
  },
  {
   "cell_type": "code",
   "execution_count": 5,
   "metadata": {},
   "outputs": [],
   "source": [
    "# Pyspark libraries\n",
    "import pyspark.sql.functions as F\n",
    "import pyspark.sql.types as T\n",
    "from pyspark.sql import DataFrame\n",
    "\n",
    "from ace.utils import enforce_schema, read_file\n",
    "from ace.schemas import MARA_SCHEMA\n",
    "\n",
    "\n",
    "def prep_general_material_data(\n",
    "    df: DataFrame,\n",
    "    col_mara_global_material_number:str,\n",
    "    check_old_material_number_is_valid: bool = True,\n",
    "    check_material_is_not_deleted: bool = True,\n",
    "):\n",
    "    \"\"\"\n",
    "    Filters materials based on validity of the old material number (BISMT) and deletion flag (LVORM)\n",
    "    and renames the global material number column and selects required columns.\n",
    "\n",
    "    Parameters:\n",
    "    -----------\n",
    "    df : DataFrame\n",
    "        Input PySpark DataFrame containing material data.\n",
    "    col_mara_global_material_number : str\n",
    "        Column name for the global material number for the system.\n",
    "    check_old_material_number_is_valid : bool, optional (default=True)\n",
    "        If True, filters out rows where the old material number is invalid.\n",
    "        Valid old material numbers are not in [\"ARCHIVE\", \"DUPLICATE\", \"RENUMBERED\"] or null.\n",
    "    check_material_is_not_deleted : bool, optional (default=True)\n",
    "        If True, excludes rows where the deletion flag is not null or not empty.\n",
    "    rename_global_material_number : str, optional (default=None)\n",
    "        If specified, renames the global material number column to this consistent name.\n",
    "\n",
    "    Returns:\n",
    "    --------\n",
    "    DataFrame\n",
    "        A PySpark DataFrame after applying the filters and renaming.\n",
    "    \"\"\"\n",
    "    # Apply old material number validity filter\n",
    "    if check_old_material_number_is_valid:\n",
    "        df = df.filter(\n",
    "            (F.col(\"BISMT\").isNull()) | (~F.col(\"BISMT\").isin(\"ARCHIVE\", \"DUPLICATE\", \"RENUMBERED\"))\n",
    "        )\n",
    "\n",
    "    # Apply material not deleted filter\n",
    "    if check_material_is_not_deleted:\n",
    "        df = df.filter(\n",
    "            (F.col(\"LVORM\").isNull()) | (F.col(\"LVORM\") == \"\")\n",
    "        )\n",
    "\n",
    "    # Rename global material number column\n",
    "    df = df.withColumnRenamed(col_mara_global_material_number, \"global_material_number\")\n",
    "\n",
    "\n",
    "    return enforce_schema(df, MARA_SCHEMA)"
   ]
  },
  {
   "cell_type": "code",
   "execution_count": 7,
   "metadata": {},
   "outputs": [
    {
     "name": "stdout",
     "output_type": "stream",
     "text": [
      "+----------------------------------------------------------------+----------------------------------------------------------------+----------------------------------------------------------------+----------------------------------------------------------------+\n",
      "|MANDT                                                           |MATNR                                                           |MEINS                                                           |global_material_number                                          |\n",
      "+----------------------------------------------------------------+----------------------------------------------------------------+----------------------------------------------------------------+----------------------------------------------------------------+\n",
      "|ad57366865126e55649ecb23ae1d48887544976efea46a48eb5d85a6eeb4d306|73247d2a426212859ed5573281c4fb0f1ac040983509226591035355f4d0fa68|72dfcfb0c470ac255cde83fb8fe38de8a128188e03ea5ba5b2a93adbea1062fa|73247d2a426212859ed5573281c4fb0f1ac040983509226591035355f4d0fa68|\n",
      "|ad57366865126e55649ecb23ae1d48887544976efea46a48eb5d85a6eeb4d306|590c5df14b93564b3822eeb4d5b6468ea992f92499c1692edcfcdf555a78e39f|88ed32099fc71a59d6849a77735f947e17ebdd813cefc4742682dcadbeecf920|590c5df14b93564b3822eeb4d5b6468ea992f92499c1692edcfcdf555a78e39f|\n",
      "|ad57366865126e55649ecb23ae1d48887544976efea46a48eb5d85a6eeb4d306|85b82c1df153d3366f650faf1974dd83092a5ff9259814f1480f2096ff82469e|fb2a4edd17f56dd07d1c9aef6b98e9094c35846f260bdc765c87bd6f2e8a7921|85b82c1df153d3366f650faf1974dd83092a5ff9259814f1480f2096ff82469e|\n",
      "|ad57366865126e55649ecb23ae1d48887544976efea46a48eb5d85a6eeb4d306|c2bb3b34c7d0fafdfe81229c0834926066486aff6ffdc72ba7ffa8a2610096fb|fb2a4edd17f56dd07d1c9aef6b98e9094c35846f260bdc765c87bd6f2e8a7921|c2bb3b34c7d0fafdfe81229c0834926066486aff6ffdc72ba7ffa8a2610096fb|\n",
      "|ad57366865126e55649ecb23ae1d48887544976efea46a48eb5d85a6eeb4d306|c216f4a709b45177d40da3228690f31f68a0e62fe3d0bc4ab6f82977f54ae13d|fb2a4edd17f56dd07d1c9aef6b98e9094c35846f260bdc765c87bd6f2e8a7921|c216f4a709b45177d40da3228690f31f68a0e62fe3d0bc4ab6f82977f54ae13d|\n",
      "+----------------------------------------------------------------+----------------------------------------------------------------+----------------------------------------------------------------+----------------------------------------------------------------+\n",
      "\n"
     ]
    }
   ],
   "source": [
    "prep_general_material_data(df, \"ZZMDGM\").show(truncate=False)"
   ]
  },
  {
   "cell_type": "code",
   "execution_count": 8,
   "metadata": {},
   "outputs": [],
   "source": [
    "import os"
   ]
  },
  {
   "cell_type": "code",
   "execution_count": null,
   "metadata": {},
   "outputs": [
    {
     "name": "stdout",
     "output_type": "stream",
     "text": [
      "../data/system_1/PRE_AFKO.csv\n",
      "PRE_AFKO\n",
      "Data loaded into variable: PRE_AFKO\n",
      "../data/system_1/PRE_AFPO.csv\n",
      "PRE_AFPO\n",
      "Data loaded into variable: PRE_AFPO\n",
      "../data/system_1/PRE_AUFK.csv\n",
      "PRE_AUFK\n",
      "Data loaded into variable: PRE_AUFK\n",
      "../data/system_1/PRE_MARA.csv\n",
      "PRE_MARA\n",
      "Data loaded into variable: PRE_MARA\n",
      "../data/system_1/PRE_MARC.csv\n",
      "PRE_MARC\n",
      "Data loaded into variable: PRE_MARC\n",
      "../data/system_1/PRE_MBEW.csv\n",
      "PRE_MBEW\n",
      "Data loaded into variable: PRE_MBEW\n",
      "../data/system_1/PRE_T001.csv\n",
      "PRE_T001\n",
      "Data loaded into variable: PRE_T001\n",
      "../data/system_1/PRE_T001K.csv\n",
      "PRE_T001K\n",
      "Data loaded into variable: PRE_T001K\n",
      "../data/system_1/PRE_T001W.csv\n",
      "PRE_T001W\n",
      "Data loaded into variable: PRE_T001W\n"
     ]
    }
   ],
   "source": [
    "for file_name in os.listdir(\"../data/system_1/\"):\n",
    "    file_path = os.path.join(\"../data/system_1/\", file_name)\n",
    "\n",
    "    # Check if it is a file (not a subfolder)\n",
    "    if os.path.isfile(file_path):\n",
    "        # Extract the file name without extension\n",
    "        base_name = os.path.splitext(file_name)[0]\n",
    "        print(base_name)\n",
    "\n",
    "        # Read the file based on its extension and create DataFrame\n",
    "        if file_name.endswith('.csv'):\n",
    "            df = read_file(file_path, \"csv\", {\"header\": \"true\", \"inferSchema\": \"true\"})\n",
    "\n",
    "        # Dynamically assign the DataFrame to a variable with the same name as the file (without extension)\n",
    "        globals()[base_name] = df\n",
    "        print(f\"Data loaded into variable: {base_name}\")"
   ]
  },
  {
   "cell_type": "code",
   "execution_count": 15,
   "metadata": {},
   "outputs": [
    {
     "name": "stdout",
     "output_type": "stream",
     "text": [
      "+--------------------+--------------------+--------------------+--------------------+--------------------+--------------------+--------------------+--------------------+--------------------+-----+--------------------+--------------------+--------------------+--------------------+-----+-----+-----+--------------------+--------------------+--------------------+-----+-----+--------------------+--------------------+--------------------+--------------------+--------------------+--------------------+-----+--------------------+---------+-----+-----+-----+-----+-----+------------------+------------------+------------------+--------------------+--------------------+--------------------+--------------------+--------------------+-----+-----+-----+------+--------+-------+-----+-----+------+--------------------+--------+--------+-----------+--------------------+--------------------+--------------------+\n",
      "|               MANDT|               WERKS|               NAME1|               BWKEY|               KUNNR|               LIFNR|               FABKL|               NAME2|               STRAS|PFACH|               PSTLZ|               ORT01|               EKORG|               VKORG|CHAZV|KKOWK|KORDB|               BEDPL|               LAND1|               REGIO|COUNC|CITYC|               ADRNR|               IWERK|               TXJCD|               VTWEG|               SPART|               SPRAS|WKSOP|               AWSLS|CHAZV_OLD|VLFKZ|BZIRK|ZONE1|TAXIW|BZQHL|             LET01|             LET02|             LET03|           TXNAM_MA1|           TXNAM_MA2|           TXNAM_MA3|               BETOL|          J_1BBRANCH|VTBFI|FPRFW|ACHVM|DVSART|NODETYPE|NSCHEMA|PKOSA|MISCH|MGVUPD|               VSTEL|MGVLAUPD|SOURCING|ZGOLIVEDATE|              ZVKORG|            sur_pkey|   SOURCE_SYSTEM_ERP|\n",
      "+--------------------+--------------------+--------------------+--------------------+--------------------+--------------------+--------------------+--------------------+--------------------+-----+--------------------+--------------------+--------------------+--------------------+-----+-----+-----+--------------------+--------------------+--------------------+-----+-----+--------------------+--------------------+--------------------+--------------------+--------------------+--------------------+-----+--------------------+---------+-----+-----+-----+-----+-----+------------------+------------------+------------------+--------------------+--------------------+--------------------+--------------------+--------------------+-----+-----+-----+------+--------+-------+-----+-----+------+--------------------+--------+--------+-----------+--------------------+--------------------+--------------------+\n",
      "|ad57366865126e556...|888b19a43b151683c...|712c7257e67075496...|888b19a43b151683c...|                null|                null|8a934fad7bbf4b682...|dd7eb51aa4c73f56f...|2b3c92426882bf3e6...| null|40510175845988f13...|dd7eb51aa4c73f56f...|888b19a43b151683c...|888b19a43b151683c...| null| null| null|4b68ab3847feda7d6...|8a934fad7bbf4b682...|                null| null| null|                null|                null|                null|938db8c9f82c8cb58...|938db8c9f82c8cb58...|8de0b3c47f112c597...| null|                null|     null| null| null| null| null| null|173.16213443121953| 506.9941087488556|278.11852840713175|568bfd1a314fa7213...|d90acf2d229500794...|ad349174a67bf5568...|7b69759630f869f27...|                null| null| null| null|  null|    null|   null| null| null|  null|888b19a43b151683c...|    null|    null|       null|                null|b2021fd508949825e...|9b209a8df4da4b8d1...|\n",
      "|ad57366865126e556...|b23c0b06c125b1790...|3e049d78d958038ac...|b23c0b06c125b1790...|6ffb1eb8cc91e57be...|                null|9a8bf3ebbe6f826e3...|528e568fed3a1e5d8...|3e87d2091bfa99af8...| null|afd679cd3f9a81fd9...|06fb1af77ec1c52ad...|b23c0b06c125b1790...|a64332fe1df1790cb...| null| null| null|4b68ab3847feda7d6...|9a8bf3ebbe6f826e3...|                null| null| null|8f0071d4b3e611d7c...|b23c0b06c125b1790...|                null|938db8c9f82c8cb58...|938db8c9f82c8cb58...|a9f51566bd6705f7e...| null|a9009f41007a98c18...|     null| null| null| null| null| null|365.59912183912536| 81.56473027852552|   67.752013988087|                null|                null|                null|5feceb66ffc86f38d...|                null| null| null| null|  null|    null|   null| null| null|  null|                null|    null|    null|       null|                null|d5d8aee5c906aed4a...|9b209a8df4da4b8d1...|\n",
      "|ad57366865126e556...|fef5dd7fb2eda5bba...|ea0b937ea317101ee...|fef5dd7fb2eda5bba...|d19f538804c8079b4...|                null|b1b7afa76db271451...|71134d4f02d6fa2ea...|b3301d09d5a4bd405...| null|163699f34a86abc03...|8d70399de1bc29baf...|fef5dd7fb2eda5bba...|4ab34cdf3e765ab16...| null| null| null|4b68ab3847feda7d6...|b1b7afa76db271451...|938db8c9f82c8cb58...| null| null|6c926c6d0cd2d189b...|fef5dd7fb2eda5bba...|                null|938db8c9f82c8cb58...|938db8c9f82c8cb58...|a9f51566bd6705f7e...| null|a9009f41007a98c18...|     null| null| null| null| null| null|31.220349095490874| 296.8346136783143|339.89323712001794|                null|                null|                null|5feceb66ffc86f38d...|                null| null| null| null|  null|    null|   null| null| null|  null|                null|    null|    null|       null|                null|8b8f97dc286d559d3...|9b209a8df4da4b8d1...|\n",
      "|ad57366865126e556...|449d411bf2e9e2624...|963859639c5fd5003...|449d411bf2e9e2624...|                null|                null|eb5442705969dc8da...|7f4dcdd1a2dff9f09...|ec763becc957590ce...| null|ab9828ca390581b72...|10e0e9a4c8c78eb44...|449d411bf2e9e2624...|                null| null| null| null|4b68ab3847feda7d6...|eb5442705969dc8da...|fcb5f40df9be6bae6...| null| null|0a8ea05591c297877...|                null|                null|                null|                null|a9f51566bd6705f7e...| null|a9009f41007a98c18...|     null| null| null| null| null| null|  27.3039691640915| 80.24238125268069| 310.3371072640708|                null|                null|                null|5feceb66ffc86f38d...|                null| null| null| null|  null|    null|   null| null| null|  null|                null|    null|    null|       null|                null|543f41a88abd62793...|9b209a8df4da4b8d1...|\n",
      "|ad57366865126e556...|8ab9ed74a57f4aeb4...|f8821b0dc5fd8e9e6...|8ab9ed74a57f4aeb4...|                null|                null|d5a79707c0bb522e0...|dfdfb67cc74b40f7a...|1926e422efe8bd54f...| null|bffb5fb92a47fe78c...|e07654fc8cf80d969...|87836283c412340bf...|0eaa69a16d7c358a3...| null| null| null|4b68ab3847feda7d6...|d5a79707c0bb522e0...|                null| null| null|15a0b292f5718b0b4...|                null|                null|938db8c9f82c8cb58...|                null|a9f51566bd6705f7e...| null|a9009f41007a98c18...|     null| null| null| null| null| null| 203.7065151657906| 389.2071760708873| 75.01195404264249|                null|                null|                null|5feceb66ffc86f38d...|                null| null| null| null|  null|    null|   null| null| null|  null|                null|    null|    null|       null|                null|665b7570fc6a843e4...|9b209a8df4da4b8d1...|\n",
      "|ad57366865126e556...|f2edecf9cc02410bc...|63984b1a7a1f2088a...|f2edecf9cc02410bc...|3eec7a24c0ab43150...|                null|05816a1560db947d6...|937861387ea2ac8e4...|6b4f14d154a313938...| null|e4e8dda79dfae583a...|69f35fb640c63c6df...|f2edecf9cc02410bc...|d2388821e8b13716f...| null| null| null|4b68ab3847feda7d6...|bbaf8352442730e92...|f5aeb0b6798a7470c...| null| null|0f0e0eefbd8ee91d7...|                null|f5aeb0b6798a7470c...|938db8c9f82c8cb58...|938db8c9f82c8cb58...|5c62e091b8c0565f1...| null|a9009f41007a98c18...|     null| null| null| null| null| null| 495.3238986445493| 348.4719941724038|452.25293900686034|                null|                null|                null|5feceb66ffc86f38d...|f2edecf9cc02410bc...| null| null| null|  null|    null|   null| null| null|  null|                null|    null|    null|       null|                null|eb03d33ade67eea71...|9b209a8df4da4b8d1...|\n",
      "|ad57366865126e556...|15d38e9052bf36947...|6ad7810aad61768fb...|15d38e9052bf36947...|27f79679c122a4101...|b037ee8d03e518966...|bbaf8352442730e92...|                null|335ee8b0d53c0fa6a...| null|ae6ef5833236d0b21...|41c421272f709d20c...|f2edecf9cc02410bc...|e50b6b02d6d90ddc9...| null| null| null|4b68ab3847feda7d6...|bbaf8352442730e92...|0df9e03357ae3a2b2...| null| null|4bbaefbefabf51dd0...|                null|0df9e03357ae3a2b2...|938db8c9f82c8cb58...|938db8c9f82c8cb58...|5c62e091b8c0565f1...| null|a9009f41007a98c18...|     null| null| null| null| null| null| 78.17897075320607|179.57752952983702|39.996749987936234|                null|                null|                null|5feceb66ffc86f38d...|15d38e9052bf36947...| null| null| null|  null|    null|   null| null| null|  null|                null|    null|    null|       null|                null|4e5ba55568a6bfd99...|9b209a8df4da4b8d1...|\n",
      "|ad57366865126e556...|461923ee5c0a3497f...|ffb43ab17cb88af75...|                null|                null|                null|f37e3358243de943a...|ffb43ab17cb88af75...|ffe715c2df8807e22...| null|a92857f547e696fc9...|4661bd5b4b1a3ded4...|                null|                null| null| null| null|                null|f37e3358243de943a...|                null| null| null|1640b1c8fce883977...|                null|                null|                null|                null|8c2574892063f995f...| null|                null|     null| null| null| null| null| null|213.69334641316607|176.01195719646657|395.61182104301474|                null|                null|                null|5feceb66ffc86f38d...|                null| null| null| null|  null|    null|   null| null| null|  null|                null|    null|    null|       null|                null|f28b6de1b0ef34029...|9b209a8df4da4b8d1...|\n",
      "|ad57366865126e556...|f4da168bb496eda78...|b869c5e76efafcd88...|f4da168bb496eda78...|2b4670ce2c0553286...|                null|6890c837e9a8e887d...|045bf5181488dde03...|4f9e45ba5c094e4c1...| null|956e3a30aa831cf4c...|96bc3bb97e49db2a3...|f4da168bb496eda78...|5765dac074bd446d1...| null| null| null|                null|6890c837e9a8e887d...|58d9e33c417379bdf...| null| null|c95f3333b19c4a13a...|                null|                null|938db8c9f82c8cb58...|938db8c9f82c8cb58...|3f39d5c348e5b79d0...| null|a9009f41007a98c18...|     null| null| null| null| null| null|174.65708107059024| 430.2652484053001| 140.4345724444348|                null|                null|                null|5feceb66ffc86f38d...|                null| null| null| null|  null|    null|   null| null| null|  null|                null|    null|    null|       null|                null|7b9bb0695817ee27b...|9b209a8df4da4b8d1...|\n",
      "|ad57366865126e556...|03bd92369bd0c6b48...|4da4483c0c2441b36...|03bd92369bd0c6b48...|1c191a2c84d8c9f8b...|7e867e3adc81cde4b...|6890c837e9a8e887d...|                null|6bcc98720aba077ed...| null|956e3a30aa831cf4c...|96bc3bb97e49db2a3...|03bd92369bd0c6b48...|40510175845988f13...| null| null| null|4b68ab3847feda7d6...|6890c837e9a8e887d...|58d9e33c417379bdf...| null| null|9a2309b6c1049fd86...|03bd92369bd0c6b48...|                null|938db8c9f82c8cb58...|938db8c9f82c8cb58...|3f39d5c348e5b79d0...| null|a9009f41007a98c18...|     null| null| null| null| null| null|193.14243290100603|114.95353838365247| 339.4394351647017|                null|                null|                null|5feceb66ffc86f38d...|                null| null| null| null|  null|    null|   null| null| null|  null|                null|    null|    null|       null|5765dac074bd446d1...|7a5e894d2779f9461...|9b209a8df4da4b8d1...|\n",
      "|ad57366865126e556...|675ed052ee32ca039...|7b7acb97bcb43da70...|675ed052ee32ca039...|1d2c816835515113b...|                null|6890c837e9a8e887d...|4da4483c0c2441b36...|c06a49889729a6f47...| null|c2b6e1f87f1fb289f...|9029091829b0101b3...|03bd92369bd0c6b48...|1fdc5156dff53e1ed...| null| null| null|4b68ab3847feda7d6...|6890c837e9a8e887d...|1980e84621c5b257d...| null| null|d3127c6ac32ec3745...|                null|                null|938db8c9f82c8cb58...|938db8c9f82c8cb58...|3f39d5c348e5b79d0...| null|a9009f41007a98c18...|     null| null| null| null| null| null| 81.14771771116658|456.25267139129755|389.58890436653985|                null|                null|                null|5feceb66ffc86f38d...|                null| null| null| null|  null|    null|   null| null| null|  null|                null|    null|    null|       null|                null|c1bf429f0b082caa2...|9b209a8df4da4b8d1...|\n",
      "|ad57366865126e556...|30c57b29205228d55...|d29564506ed7f4b4d...|30c57b29205228d55...|                null|                null|6890c837e9a8e887d...|d29564506ed7f4b4d...|4f9e45ba5c094e4c1...| null|956e3a30aa831cf4c...|96bc3bb97e49db2a3...|                null|                null| null| null| null|                null|6890c837e9a8e887d...|58d9e33c417379bdf...| null| null|684484674d8c1947b...|                null|                null|                null|                null|3f39d5c348e5b79d0...| null|a9009f41007a98c18...|     null| null| null| null| null| null| 429.7580575388817|251.61848417876126|25.468661135839344|                null|                null|                null|5feceb66ffc86f38d...|                null| null| null| null|  null|    null|   null| null| null|  null|                null|    null|    null|       null|                null|65dda5b57f8be030f...|9b209a8df4da4b8d1...|\n",
      "|ad57366865126e556...|c7800a11d676f733d...|35e0a52f198c2429b...|c7800a11d676f733d...|                null|                null|6890c837e9a8e887d...|35e0a52f198c2429b...|6bcc98720aba077ed...| null|956e3a30aa831cf4c...|96bc3bb97e49db2a3...|03bd92369bd0c6b48...|40510175845988f13...| null| null| null|4b68ab3847feda7d6...|6890c837e9a8e887d...|58d9e33c417379bdf...| null| null|aee8ac5f9d04ed352...|03bd92369bd0c6b48...|                null|938db8c9f82c8cb58...|938db8c9f82c8cb58...|3f39d5c348e5b79d0...| null|a9009f41007a98c18...|     null| null| null| null| null| null| 449.9459306829955|16.411817184620926|388.70451574044375|                null|                null|                null|5feceb66ffc86f38d...|                null| null| null| null|  null|    null|   null| null| null|  null|                null|    null|    null|       null|                null|d15445ec11bf09035...|9b209a8df4da4b8d1...|\n",
      "|ad57366865126e556...|7f6aae7355faebbb9...|1de1aba60d56f3938...|7f6aae7355faebbb9...|63c6c8ce0e3656e36...|                null|8a934fad7bbf4b682...|9129bb97455a5e24a...|4f5a379a0495425db...| null|                null|5e17f239d97ed361a...|7f6aae7355faebbb9...|e04f202d6cfd37111...| null| null| null|                null|8a934fad7bbf4b682...|3fdba35f04dc8c462...| null| null|de7cee22f5dea5200...|                null|                null|938db8c9f82c8cb58...|938db8c9f82c8cb58...|a9f51566bd6705f7e...| null|                null|     null| null| null| null| null| null| 34.95801479940636|240.66769679020265|108.51565597227814|                null|                null|                null|5feceb66ffc86f38d...|                null| null| null| null|  null|    null|   null| null| null|  null|                null|    null|    null|       null|                null|0c9679f7dea6e8982...|9b209a8df4da4b8d1...|\n",
      "|ad57366865126e556...|2de487e1af8b28123...|d04d91d00df2fea52...|2de487e1af8b28123...|4f2fc67e2f70d8617...|8caa7e4c8c5e85e15...|9fc4508238942e7cf...|f3f57619f3e0d253e...|8bef9af29cbdbc2ae...| null|93b5d4e9c022df734...|303b1fa993cf8945b...|2de487e1af8b28123...|bb4d3bd125603e48c...| null| null| null|4b68ab3847feda7d6...|9fc4508238942e7cf...|c75f53bdcc638b0f9...| null| null|fb26d9764f1be6e91...|2de487e1af8b28123...|                null|938db8c9f82c8cb58...|938db8c9f82c8cb58...|6b86b273ff34fce19...| null|a9009f41007a98c18...|     null| null| null| null| null| null| 123.1839136525793|361.84095392755637| 46.52513893287002|                null|                null|                null|5feceb66ffc86f38d...|                null| null| null| null|  null|    null|   null| null| null|  null|                null|    null|    null|       null|                null|7d8cf647e5f4a8e52...|9b209a8df4da4b8d1...|\n",
      "|ad57366865126e556...|9eed9066a7906bfe1...|a7d556a5242f307c5...|9eed9066a7906bfe1...|8b9e826f84b9b4979...|535d79df862d3c0c4...|9fc4508238942e7cf...|f3f57619f3e0d253e...|402ea097baa82a594...| null|93db0b60ff344256f...|65bb46ed07b2bbf1e...|2de487e1af8b28123...|bb4d3bd125603e48c...| null| null| null|4b68ab3847feda7d6...|9fc4508238942e7cf...|13715f6c8b48ed1b0...| null| null|a533d2df929be9ef5...|                null|                null|938db8c9f82c8cb58...|938db8c9f82c8cb58...|6b86b273ff34fce19...| null|a9009f41007a98c18...|     null| null| null| null| null| null| 433.8805193508565| 212.2551915472183|191.20528731347719|                null|                null|                null|5feceb66ffc86f38d...|                null| null| null| null|  null|    null|   null| null| null|  null|                null|    null|    null|       null|                null|5ae7fd3b1e891728e...|9b209a8df4da4b8d1...|\n",
      "|ad57366865126e556...|eb06b33ea7d020074...|f1a44aec2841b6104...|eb06b33ea7d020074...|dc05a2a1e09a0f6c7...|bccc87c7d548e2d36...|9fc4508238942e7cf...|f1a44aec2841b6104...|c1b070a6cc3bbd509...| null|709c3f938101ef191...|303b1fa993cf8945b...|2de487e1af8b28123...|b746356b9c2afdce9...| null| null| null|                null|9fc4508238942e7cf...|                null| null| null|d82642b1befe8b1de...|                null|                null|938db8c9f82c8cb58...|938db8c9f82c8cb58...|a9f51566bd6705f7e...| null|a9009f41007a98c18...|     null| null| null| null| null| null|498.75043523199463|426.37649475634254| 43.91304702744059|                null|                null|                null|5feceb66ffc86f38d...|                null| null| null| null|  null|    null|   null| null| null|  null|                null|    null|    null|       null|                null|e2a97a2276585d6b9...|9b209a8df4da4b8d1...|\n",
      "|ad57366865126e556...|30f20a4c959ae0d3b...|5390dcd616fa85895...|30f20a4c959ae0d3b...|7abc7fc6bf3981b3e...|2fb19f44c6377546c...|9fc4508238942e7cf...|3dc4bc54a16ab9873...|                null| null|9186e6afeee7532bb...|fb5b6b0f6ec23b528...|2de487e1af8b28123...|3e6fadf870460e8de...| null| null| null|4b68ab3847feda7d6...|9fc4508238942e7cf...|ad57366865126e556...| null| null|742c03ed124f9ee89...|30f20a4c959ae0d3b...|                null|938db8c9f82c8cb58...|938db8c9f82c8cb58...|6b86b273ff34fce19...| null|a9009f41007a98c18...|     null| null| null| null| null| null|268.74669975411564|261.13222681728956|116.69037327359399|                null|                null|                null|5feceb66ffc86f38d...|                null| null| null| null|  null|    null|   null| null| null|  null|                null|    null|    null|       null|                null|6a07a6e6b496c265b...|9b209a8df4da4b8d1...|\n",
      "|ad57366865126e556...|56d9b85b38b5c9980...|d62d6a9e0328cedf1...|56d9b85b38b5c9980...|92c16c5931cb2f422...|                null|9fc4508238942e7cf...|fdf12b8c885a16b60...|                null| null|9186e6afeee7532bb...|fb5b6b0f6ec23b528...|2de487e1af8b28123...|3e6fadf870460e8de...| null| null| null|4b68ab3847feda7d6...|9fc4508238942e7cf...|ad57366865126e556...| null| null|627788eb789fbf0cd...|56d9b85b38b5c9980...|                null|938db8c9f82c8cb58...|938db8c9f82c8cb58...|a9f51566bd6705f7e...| null|a9009f41007a98c18...|     null| null| null| null| null| null|265.02402658724947| 88.17628031378317|  326.508754836825|                null|                null|                null|5feceb66ffc86f38d...|                null| null| null| null|  null|    null|   null| null| null|  null|                null|    null|    null|       null|                null|d9ad9e24e1b738c86...|9b209a8df4da4b8d1...|\n",
      "|ad57366865126e556...|d1ae2cde7fc827378...|a81527dbe92e5a4da...|d1ae2cde7fc827378...|                null|                null|5bc94e9d4a97bbf5b...|f768d30230602db26...|954bca61e44dfd11a...| null|11b59823b8b634e27...|61c0fa51c807f4a25...|d1ae2cde7fc827378...|                null| null| null| null|4b68ab3847feda7d6...|5bc94e9d4a97bbf5b...|                null| null| null|a3421a32cee886673...|                null|                null|                null|                null|a9f51566bd6705f7e...| null|a9009f41007a98c18...|     null| null| null| null| null| null| 162.2114078638521| 452.6113292113569|342.69414861231206|                null|                null|                null|5feceb66ffc86f38d...|                null| null| null| null|  null|    null|   null| null| null|  null|                null|    null|    null|       null|                null|f402da44f3432ad88...|9b209a8df4da4b8d1...|\n",
      "+--------------------+--------------------+--------------------+--------------------+--------------------+--------------------+--------------------+--------------------+--------------------+-----+--------------------+--------------------+--------------------+--------------------+-----+-----+-----+--------------------+--------------------+--------------------+-----+-----+--------------------+--------------------+--------------------+--------------------+--------------------+--------------------+-----+--------------------+---------+-----+-----+-----+-----+-----+------------------+------------------+------------------+--------------------+--------------------+--------------------+--------------------+--------------------+-----+-----+-----+------+--------+-------+-----+-----+------+--------------------+--------+--------+-----------+--------------------+--------------------+--------------------+\n",
      "only showing top 20 rows\n",
      "\n"
     ]
    }
   ],
   "source": [
    "PRE_T001W.show()"
   ]
  },
  {
   "cell_type": "code",
   "execution_count": 16,
   "metadata": {},
   "outputs": [],
   "source": [
    "from ace.utils import enforce_schema"
   ]
  },
  {
   "cell_type": "code",
   "execution_count": null,
   "metadata": {},
   "outputs": [],
   "source": []
  }
 ],
 "metadata": {
  "kernelspec": {
   "display_name": "venv",
   "language": "python",
   "name": "python3"
  },
  "language_info": {
   "codemirror_mode": {
    "name": "ipython",
    "version": 3
   },
   "file_extension": ".py",
   "mimetype": "text/x-python",
   "name": "python",
   "nbconvert_exporter": "python",
   "pygments_lexer": "ipython3",
   "version": "3.12.3"
  }
 },
 "nbformat": 4,
 "nbformat_minor": 2
}
